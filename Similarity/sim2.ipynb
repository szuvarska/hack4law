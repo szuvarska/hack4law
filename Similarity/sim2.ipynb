{
 "cells": [
  {
   "cell_type": "code",
   "execution_count": null,
   "metadata": {},
   "outputs": [],
   "source": []
  },
  {
   "cell_type": "code",
   "execution_count": 24,
   "metadata": {},
   "outputs": [
    {
     "data": {
      "application/vnd.jupyter.widget-view+json": {
       "model_id": "87c11c4dd87d4fa18434ea34170c9f98",
       "version_major": 2,
       "version_minor": 0
      },
      "text/plain": [
       "Downloading (…)9e268/.gitattributes:   0%|          | 0.00/690 [00:00<?, ?B/s]"
      ]
     },
     "metadata": {},
     "output_type": "display_data"
    },
    {
     "data": {
      "application/vnd.jupyter.widget-view+json": {
       "model_id": "fcd3e5a2861148a199a79d5002e94ee5",
       "version_major": 2,
       "version_minor": 0
      },
      "text/plain": [
       "Downloading (…)_Pooling/config.json:   0%|          | 0.00/190 [00:00<?, ?B/s]"
      ]
     },
     "metadata": {},
     "output_type": "display_data"
    },
    {
     "data": {
      "application/vnd.jupyter.widget-view+json": {
       "model_id": "61b9f57999da48de9c3147d95a4a929e",
       "version_major": 2,
       "version_minor": 0
      },
      "text/plain": [
       "Downloading (…)f2cd19e268/README.md:   0%|          | 0.00/3.77k [00:00<?, ?B/s]"
      ]
     },
     "metadata": {},
     "output_type": "display_data"
    },
    {
     "data": {
      "application/vnd.jupyter.widget-view+json": {
       "model_id": "9bf7d609d1234462b0edef26910719ad",
       "version_major": 2,
       "version_minor": 0
      },
      "text/plain": [
       "Downloading (…)cd19e268/config.json:   0%|          | 0.00/723 [00:00<?, ?B/s]"
      ]
     },
     "metadata": {},
     "output_type": "display_data"
    },
    {
     "data": {
      "application/vnd.jupyter.widget-view+json": {
       "model_id": "98195ef8ee2340208fddea5dca39d396",
       "version_major": 2,
       "version_minor": 0
      },
      "text/plain": [
       "Downloading (…)ce_transformers.json:   0%|          | 0.00/122 [00:00<?, ?B/s]"
      ]
     },
     "metadata": {},
     "output_type": "display_data"
    },
    {
     "data": {
      "application/vnd.jupyter.widget-view+json": {
       "model_id": "a5ad48d0459f42c1af0a6ae4536e2b34",
       "version_major": 2,
       "version_minor": 0
      },
      "text/plain": [
       "Downloading pytorch_model.bin:   0%|          | 0.00/1.11G [00:00<?, ?B/s]"
      ]
     },
     "metadata": {},
     "output_type": "display_data"
    },
    {
     "data": {
      "application/vnd.jupyter.widget-view+json": {
       "model_id": "43a30ee944ed4c29b89c1f098f65f5da",
       "version_major": 2,
       "version_minor": 0
      },
      "text/plain": [
       "Downloading (…)nce_bert_config.json:   0%|          | 0.00/53.0 [00:00<?, ?B/s]"
      ]
     },
     "metadata": {},
     "output_type": "display_data"
    },
    {
     "data": {
      "application/vnd.jupyter.widget-view+json": {
       "model_id": "5affc937aa4c4eff88191df3a845ab38",
       "version_major": 2,
       "version_minor": 0
      },
      "text/plain": [
       "Downloading (…)tencepiece.bpe.model:   0%|          | 0.00/5.07M [00:00<?, ?B/s]"
      ]
     },
     "metadata": {},
     "output_type": "display_data"
    },
    {
     "data": {
      "application/vnd.jupyter.widget-view+json": {
       "model_id": "52206119876a4a4db8a01fa9006d14af",
       "version_major": 2,
       "version_minor": 0
      },
      "text/plain": [
       "Downloading (…)cial_tokens_map.json:   0%|          | 0.00/239 [00:00<?, ?B/s]"
      ]
     },
     "metadata": {},
     "output_type": "display_data"
    },
    {
     "data": {
      "application/vnd.jupyter.widget-view+json": {
       "model_id": "31623acb606f4b27b7ba4dde6f4fb34d",
       "version_major": 2,
       "version_minor": 0
      },
      "text/plain": [
       "Downloading (…)9e268/tokenizer.json:   0%|          | 0.00/9.08M [00:00<?, ?B/s]"
      ]
     },
     "metadata": {},
     "output_type": "display_data"
    },
    {
     "data": {
      "application/vnd.jupyter.widget-view+json": {
       "model_id": "219daefd8fd248e4be2003112d94aa9f",
       "version_major": 2,
       "version_minor": 0
      },
      "text/plain": [
       "Downloading (…)okenizer_config.json:   0%|          | 0.00/402 [00:00<?, ?B/s]"
      ]
     },
     "metadata": {},
     "output_type": "display_data"
    },
    {
     "data": {
      "application/vnd.jupyter.widget-view+json": {
       "model_id": "c261b8c1a2764c819a4d2f1764ff5798",
       "version_major": 2,
       "version_minor": 0
      },
      "text/plain": [
       "Downloading (…)d19e268/modules.json:   0%|          | 0.00/229 [00:00<?, ?B/s]"
      ]
     },
     "metadata": {},
     "output_type": "display_data"
    },
    {
     "name": "stdout",
     "output_type": "stream",
     "text": [
      "[(10.45965223073447,\n",
      "  '../Data/state of the union.txt',\n",
      "  'One of the most serious constitutional responsibilities a President has is '\n",
      "  'nominating someone to serve on the United States Supreme Court. \\n'\n",
      "  '\\n'\n",
      "  'And I did that 4 days ago, when I nominated Circuit Court of Appeals Judge '\n",
      "  'Ketanji Brown Jackson. One of our nation’s top legal minds, who will '\n",
      "  'continue Justice Breyer’s legacy of excellence.'),\n",
      " (11.86820177173809,\n",
      "  '../Data/state of the union.txt',\n",
      "  'He will never extinguish their love of freedom. He will never weaken the '\n",
      "  'resolve of the free world. \\n'\n",
      "  '\\n'\n",
      "  'We meet tonight in an America that has lived through two of the hardest '\n",
      "  'years this nation has ever faced. \\n'\n",
      "  '\\n'\n",
      "  'The pandemic has been punishing. \\n'\n",
      "  '\\n'\n",
      "  'And so many families are living paycheck to paycheck, struggling to keep up '\n",
      "  'with the rising cost of food, gas, housing, and so much more. \\n'\n",
      "  '\\n'\n",
      "  'I understand.'),\n",
      " (12.239472097286281,\n",
      "  '../Data/state of the union.txt',\n",
      "  'I know. \\n'\n",
      "  '\\n'\n",
      "  'One of those soldiers was my son Major Beau Biden. \\n'\n",
      "  '\\n'\n",
      "  'We don’t know for sure if a burn pit was the cause of his brain cancer, or '\n",
      "  'the diseases of so many of our troops. \\n'\n",
      "  '\\n'\n",
      "  'But I’m committed to finding out everything we can. \\n'\n",
      "  '\\n'\n",
      "  'Committed to military families like Danielle Robinson from Ohio. \\n'\n",
      "  '\\n'\n",
      "  'The widow of Sergeant First Class Heath Robinson.  \\n'\n",
      "  '\\n'\n",
      "  'He was born a soldier. Army National Guard. Combat medic in Kosovo and '\n",
      "  'Iraq.'),\n",
      " (12.58138547732112,\n",
      "  '../Data/state of the union.txt',\n",
      "  'He didn’t know how to stop fighting, and neither did she. \\n'\n",
      "  '\\n'\n",
      "  'Through her pain she found purpose to demand we do better. \\n'\n",
      "  '\\n'\n",
      "  'Tonight, Danielle—we are. \\n'\n",
      "  '\\n'\n",
      "  'The VA is pioneering new ways of linking toxic exposures to diseases, '\n",
      "  'already helping more veterans get benefits. \\n'\n",
      "  '\\n'\n",
      "  'And tonight, I’m announcing we’re expanding eligibility to veterans '\n",
      "  'suffering from nine respiratory cancers.')]\n"
     ]
    }
   ],
   "source": [
    "import pprint\n",
    "import pandas as pd\n",
    "\n",
    "from pathlib import Path\n",
    "\n",
    "from langchain.document_loaders import TextLoader\n",
    "from langchain.embeddings import HuggingFaceEmbeddings\n",
    "from langchain.text_splitter import CharacterTextSplitter\n",
    "from langchain.vectorstores import Chroma\n",
    "from langchain.document_loaders.csv_loader import CSVLoader\n",
    "from langchain.schema import Document\n",
    "\n",
    "df = pd.read_csv(\"Data/cleaned_output1.csv\")\n",
    "\n",
    "documents = df.apply(lambda row: Document(page_content = row['textContent']\n",
    "                                          , metadata = {'source' : row['id']}))\n",
    "\n",
    "# Ten plik documnets możesz joinowac\n",
    "# loader = TextLoader(\"../Data/state of the union.txt\")\n",
    "# documents = loader.load()\n",
    "# csv_loader = CSVLoader()\n",
    "# documents = csv_loader.load(\"../Data/clean_output1.csv\")\n",
    "\n",
    "text_splitter = CharacterTextSplitter(chunk_size=500, chunk_overlap=100)\n",
    "docs = text_splitter.split_documents(documents)\n",
    "\n",
    "model_name = \"sentence-transformers/paraphrase-multilingual-mpnet-base-v2\"\n",
    "model_kwargs = {\"device\": \"cpu\"}\n",
    "embeddings = HuggingFaceEmbeddings(model_name=model_name, model_kwargs=model_kwargs)\n",
    "\n",
    "chroma_db_filepath = Path(\"./chroma_db\")\n",
    "if chroma_db_filepath.exists():\n",
    "    db = Chroma(embedding_function=embeddings, persist_directory=str(chroma_db_filepath))\n",
    "else:\n",
    "    db = Chroma.from_documents(docs, embeddings, persist_directory=str(chroma_db_filepath))\n",
    "\n",
    "sim = db.similarity_search_with_score(\n",
    "    \"What did the president say about Ketanji Brown Jackson?\", k=4\n",
    ")\n",
    "\n",
    "results = [(score, doc.metadata[\"source\"], doc.page_content) for (doc, score) in sim]\n",
    "results.sort(key=lambda x: x[0])\n",
    "\n",
    "pprint.pprint(results)"
   ]
  },
  {
   "cell_type": "code",
   "execution_count": 23,
   "metadata": {},
   "outputs": [
    {
     "name": "stdout",
     "output_type": "stream",
     "text": [
      "Collecting sentence-transformers\n",
      "  Using cached sentence-transformers-2.2.2.tar.gz (85 kB)\n",
      "  Preparing metadata (setup.py): started\n",
      "  Preparing metadata (setup.py): finished with status 'done'\n",
      "Requirement already satisfied: transformers<5.0.0,>=4.6.0 in c:\\anaconda\\lib\\site-packages (from sentence-transformers) (4.29.2)\n",
      "Requirement already satisfied: tqdm in c:\\anaconda\\lib\\site-packages (from sentence-transformers) (4.65.0)\n",
      "Requirement already satisfied: torch>=1.6.0 in c:\\anaconda\\lib\\site-packages (from sentence-transformers) (1.12.1)\n",
      "Collecting torchvision (from sentence-transformers)\n",
      "  Using cached torchvision-0.16.0-cp39-cp39-win_amd64.whl (1.3 MB)\n",
      "Requirement already satisfied: numpy in c:\\anaconda\\lib\\site-packages (from sentence-transformers) (1.24.3)\n",
      "Requirement already satisfied: scikit-learn in c:\\anaconda\\lib\\site-packages (from sentence-transformers) (1.2.2)\n",
      "Requirement already satisfied: scipy in c:\\anaconda\\lib\\site-packages (from sentence-transformers) (1.10.1)\n",
      "Requirement already satisfied: nltk in c:\\anaconda\\lib\\site-packages (from sentence-transformers) (3.7)\n",
      "Collecting sentencepiece (from sentence-transformers)\n",
      "  Using cached sentencepiece-0.1.99-cp39-cp39-win_amd64.whl (977 kB)\n",
      "Requirement already satisfied: huggingface-hub>=0.4.0 in c:\\anaconda\\lib\\site-packages (from sentence-transformers) (0.17.3)\n",
      "Requirement already satisfied: filelock in c:\\anaconda\\lib\\site-packages (from huggingface-hub>=0.4.0->sentence-transformers) (3.9.0)\n",
      "Requirement already satisfied: fsspec in c:\\anaconda\\lib\\site-packages (from huggingface-hub>=0.4.0->sentence-transformers) (2023.4.0)\n",
      "Requirement already satisfied: requests in c:\\anaconda\\lib\\site-packages (from huggingface-hub>=0.4.0->sentence-transformers) (2.29.0)\n",
      "Requirement already satisfied: pyyaml>=5.1 in c:\\anaconda\\lib\\site-packages (from huggingface-hub>=0.4.0->sentence-transformers) (6.0)\n",
      "Requirement already satisfied: typing-extensions>=3.7.4.3 in c:\\anaconda\\lib\\site-packages (from huggingface-hub>=0.4.0->sentence-transformers) (4.8.0)\n",
      "Requirement already satisfied: packaging>=20.9 in c:\\anaconda\\lib\\site-packages (from huggingface-hub>=0.4.0->sentence-transformers) (23.0)\n",
      "Requirement already satisfied: colorama in c:\\anaconda\\lib\\site-packages (from tqdm->sentence-transformers) (0.4.6)\n",
      "Requirement already satisfied: regex!=2019.12.17 in c:\\anaconda\\lib\\site-packages (from transformers<5.0.0,>=4.6.0->sentence-transformers) (2022.7.9)\n",
      "Collecting tokenizers!=0.11.3,<0.14,>=0.11.1 (from transformers<5.0.0,>=4.6.0->sentence-transformers)\n",
      "  Downloading tokenizers-0.13.3-cp39-cp39-win_amd64.whl (3.5 MB)\n",
      "                                              0.0/3.5 MB ? eta -:--:--\n",
      "                                              0.1/3.5 MB 1.7 MB/s eta 0:00:03\n",
      "     --                                       0.2/3.5 MB 2.1 MB/s eta 0:00:02\n",
      "     -----                                    0.5/3.5 MB 4.0 MB/s eta 0:00:01\n",
      "     -------------                            1.1/3.5 MB 6.6 MB/s eta 0:00:01\n",
      "     -------------------------                2.2/3.5 MB 9.5 MB/s eta 0:00:01\n",
      "     --------------------------------------   3.3/3.5 MB 12.6 MB/s eta 0:00:01\n",
      "     ---------------------------------------- 3.5/3.5 MB 12.3 MB/s eta 0:00:00\n",
      "Requirement already satisfied: click in c:\\anaconda\\lib\\site-packages (from nltk->sentence-transformers) (8.0.4)\n",
      "Requirement already satisfied: joblib in c:\\anaconda\\lib\\site-packages (from nltk->sentence-transformers) (1.2.0)\n",
      "Requirement already satisfied: threadpoolctl>=2.0.0 in c:\\anaconda\\lib\\site-packages (from scikit-learn->sentence-transformers) (2.2.0)\n",
      "Collecting torch>=1.6.0 (from sentence-transformers)\n",
      "  Downloading torch-2.1.0-cp39-cp39-win_amd64.whl (192.2 MB)\n",
      "                                              0.0/192.2 MB ? eta -:--:--\n",
      "                                             0.8/192.2 MB 27.1 MB/s eta 0:00:08\n",
      "                                             1.8/192.2 MB 22.8 MB/s eta 0:00:09\n",
      "                                             1.9/192.2 MB 14.9 MB/s eta 0:00:13\n",
      "                                             4.4/192.2 MB 25.4 MB/s eta 0:00:08\n",
      "     -                                       5.6/192.2 MB 25.7 MB/s eta 0:00:08\n",
      "     -                                       7.3/192.2 MB 27.6 MB/s eta 0:00:07\n",
      "     -                                       9.0/192.2 MB 28.7 MB/s eta 0:00:07\n",
      "     --                                     10.9/192.2 MB 31.2 MB/s eta 0:00:06\n",
      "     --                                     12.6/192.2 MB 36.3 MB/s eta 0:00:05\n",
      "     --                                     13.8/192.2 MB 32.7 MB/s eta 0:00:06\n",
      "     ---                                    15.5/192.2 MB 34.4 MB/s eta 0:00:06\n",
      "     ---                                    16.9/192.2 MB 34.4 MB/s eta 0:00:06\n",
      "     ---                                    18.1/192.2 MB 31.2 MB/s eta 0:00:06\n",
      "     ---                                    19.5/192.2 MB 31.2 MB/s eta 0:00:06\n",
      "     ----                                   20.9/192.2 MB 31.2 MB/s eta 0:00:06\n",
      "     ----                                   21.8/192.2 MB 29.7 MB/s eta 0:00:06\n",
      "     ----                                   22.5/192.2 MB 26.2 MB/s eta 0:00:07\n",
      "     ----                                   23.1/192.2 MB 26.2 MB/s eta 0:00:07\n",
      "     ----                                   23.7/192.2 MB 24.2 MB/s eta 0:00:07\n",
      "     ----                                   23.8/192.2 MB 24.2 MB/s eta 0:00:07\n",
      "     -----                                  25.7/192.2 MB 22.6 MB/s eta 0:00:08\n",
      "     -----                                  26.9/192.2 MB 22.6 MB/s eta 0:00:08\n",
      "     -----                                  28.3/192.2 MB 22.6 MB/s eta 0:00:08\n",
      "     -----                                  29.6/192.2 MB 21.1 MB/s eta 0:00:08\n",
      "     ------                                 31.0/192.2 MB 21.8 MB/s eta 0:00:08\n",
      "     ------                                 32.5/192.2 MB 23.4 MB/s eta 0:00:07\n",
      "     ------                                 33.8/192.2 MB 26.2 MB/s eta 0:00:07\n",
      "     ------                                 34.7/192.2 MB 28.5 MB/s eta 0:00:06\n",
      "     -------                                36.0/192.2 MB 27.3 MB/s eta 0:00:06\n",
      "     -------                                36.9/192.2 MB 26.2 MB/s eta 0:00:06\n",
      "     -------                                38.2/192.2 MB 26.2 MB/s eta 0:00:06\n",
      "     -------                                39.7/192.2 MB 27.3 MB/s eta 0:00:06\n",
      "     --------                               41.2/192.2 MB 27.3 MB/s eta 0:00:06\n",
      "     --------                               42.5/192.2 MB 26.2 MB/s eta 0:00:06\n",
      "     --------                               43.8/192.2 MB 26.2 MB/s eta 0:00:06\n",
      "     --------                               44.5/192.2 MB 25.1 MB/s eta 0:00:06\n",
      "     ---------                              45.7/192.2 MB 25.2 MB/s eta 0:00:06\n",
      "     ---------                              47.1/192.2 MB 27.3 MB/s eta 0:00:06\n",
      "     ---------                              48.4/192.2 MB 27.3 MB/s eta 0:00:06\n",
      "     ---------                              49.7/192.2 MB 24.2 MB/s eta 0:00:06\n",
      "     ----------                             51.4/192.2 MB 26.2 MB/s eta 0:00:06\n",
      "     ----------                             53.3/192.2 MB 29.8 MB/s eta 0:00:05\n",
      "     ----------                             54.7/192.2 MB 29.7 MB/s eta 0:00:05\n",
      "     -----------                            55.9/192.2 MB 29.7 MB/s eta 0:00:05\n",
      "     -----------                            57.4/192.2 MB 31.2 MB/s eta 0:00:05\n",
      "     -----------                            58.0/192.2 MB 29.7 MB/s eta 0:00:05\n",
      "     -----------                            59.5/192.2 MB 31.2 MB/s eta 0:00:05\n",
      "     ------------                           60.9/192.2 MB 29.7 MB/s eta 0:00:05\n",
      "     ------------                           61.5/192.2 MB 27.3 MB/s eta 0:00:05\n",
      "     ------------                           62.9/192.2 MB 26.2 MB/s eta 0:00:05\n",
      "     ------------                           64.2/192.2 MB 25.2 MB/s eta 0:00:06\n",
      "     ------------                           65.2/192.2 MB 24.2 MB/s eta 0:00:06\n",
      "     -------------                          66.0/192.2 MB 25.2 MB/s eta 0:00:06\n",
      "     -------------                          67.4/192.2 MB 24.2 MB/s eta 0:00:06\n",
      "     -------------                          68.9/192.2 MB 24.3 MB/s eta 0:00:06\n",
      "     -------------                          69.9/192.2 MB 24.2 MB/s eta 0:00:06\n",
      "     --------------                         71.2/192.2 MB 26.2 MB/s eta 0:00:05\n",
      "     --------------                         71.7/192.2 MB 23.4 MB/s eta 0:00:06\n",
      "     --------------                         73.3/192.2 MB 24.2 MB/s eta 0:00:05\n",
      "     --------------                         74.4/192.2 MB 23.4 MB/s eta 0:00:06\n",
      "     --------------                         75.4/192.2 MB 24.2 MB/s eta 0:00:05\n",
      "     ---------------                        76.6/192.2 MB 23.4 MB/s eta 0:00:05\n",
      "     ---------------                        77.7/192.2 MB 26.2 MB/s eta 0:00:05\n",
      "     ---------------                        78.7/192.2 MB 23.4 MB/s eta 0:00:05\n",
      "     ---------------                        80.5/192.2 MB 23.4 MB/s eta 0:00:05\n",
      "     ----------------                       81.6/192.2 MB 23.4 MB/s eta 0:00:05\n",
      "     ----------------                       83.3/192.2 MB 26.2 MB/s eta 0:00:05\n",
      "     ----------------                       84.1/192.2 MB 28.4 MB/s eta 0:00:04\n",
      "     ----------------                       85.5/192.2 MB 26.2 MB/s eta 0:00:05\n",
      "     -----------------                      86.4/192.2 MB 26.2 MB/s eta 0:00:05\n",
      "     -----------------                      86.9/192.2 MB 23.4 MB/s eta 0:00:05\n",
      "     -----------------                      87.9/192.2 MB 23.4 MB/s eta 0:00:05\n",
      "     -----------------                      87.9/192.2 MB 20.5 MB/s eta 0:00:06\n",
      "     -----------------                      89.3/192.2 MB 23.4 MB/s eta 0:00:05\n",
      "     -----------------                      90.5/192.2 MB 21.1 MB/s eta 0:00:05\n",
      "     -----------------                      90.9/192.2 MB 21.1 MB/s eta 0:00:05\n",
      "     ------------------                     92.0/192.2 MB 19.8 MB/s eta 0:00:06\n",
      "     ------------------                     93.4/192.2 MB 19.3 MB/s eta 0:00:06\n",
      "     ------------------                     93.7/192.2 MB 18.2 MB/s eta 0:00:06\n",
      "     ------------------                     94.8/192.2 MB 18.7 MB/s eta 0:00:06\n",
      "     ------------------                     95.2/192.2 MB 17.3 MB/s eta 0:00:06\n",
      "     -------------------                    96.7/192.2 MB 18.7 MB/s eta 0:00:06\n",
      "     -------------------                    96.9/192.2 MB 17.2 MB/s eta 0:00:06\n",
      "     -------------------                    98.3/192.2 MB 19.2 MB/s eta 0:00:05\n",
      "     -------------------                    98.9/192.2 MB 17.2 MB/s eta 0:00:06\n",
      "     -------------------                   100.2/192.2 MB 18.2 MB/s eta 0:00:06\n",
      "     -------------------                   100.3/192.2 MB 17.7 MB/s eta 0:00:06\n",
      "     -------------------                   101.6/192.2 MB 18.7 MB/s eta 0:00:05\n",
      "     -------------------                   101.8/192.2 MB 18.2 MB/s eta 0:00:05\n",
      "     -------------------                   103.2/192.2 MB 17.2 MB/s eta 0:00:06\n",
      "     -------------------                   103.5/192.2 MB 16.4 MB/s eta 0:00:06\n",
      "     --------------------                  104.7/192.2 MB 16.8 MB/s eta 0:00:06\n",
      "     --------------------                  105.8/192.2 MB 19.3 MB/s eta 0:00:05\n",
      "     --------------------                  107.0/192.2 MB 20.5 MB/s eta 0:00:05\n",
      "     --------------------                  107.6/192.2 MB 19.2 MB/s eta 0:00:05\n",
      "     --------------------                  108.3/192.2 MB 18.2 MB/s eta 0:00:05\n",
      "     ---------------------                 109.8/192.2 MB 20.5 MB/s eta 0:00:05\n",
      "     ---------------------                 110.3/192.2 MB 19.3 MB/s eta 0:00:05\n",
      "     ---------------------                 111.9/192.2 MB 21.8 MB/s eta 0:00:04\n",
      "     ---------------------                 112.7/192.2 MB 23.4 MB/s eta 0:00:04\n",
      "     ---------------------                 113.3/192.2 MB 21.8 MB/s eta 0:00:04\n",
      "     ----------------------                114.9/192.2 MB 24.2 MB/s eta 0:00:04\n",
      "     ----------------------                115.9/192.2 MB 22.6 MB/s eta 0:00:04\n",
      "     ----------------------                116.9/192.2 MB 23.4 MB/s eta 0:00:04\n",
      "     ----------------------                118.2/192.2 MB 26.2 MB/s eta 0:00:03\n",
      "     -----------------------               119.6/192.2 MB 26.2 MB/s eta 0:00:03\n",
      "     -----------------------               121.4/192.2 MB 27.3 MB/s eta 0:00:03\n",
      "     -----------------------               122.3/192.2 MB 25.2 MB/s eta 0:00:03\n",
      "     -----------------------               124.0/192.2 MB 27.3 MB/s eta 0:00:03\n",
      "     -----------------------               124.4/192.2 MB 28.5 MB/s eta 0:00:03\n",
      "     ------------------------              125.6/192.2 MB 27.3 MB/s eta 0:00:03\n",
      "     ------------------------              126.2/192.2 MB 27.3 MB/s eta 0:00:03\n",
      "     ------------------------              127.8/192.2 MB 28.4 MB/s eta 0:00:03\n",
      "     ------------------------              129.5/192.2 MB 29.7 MB/s eta 0:00:03\n",
      "     -------------------------             130.9/192.2 MB 29.7 MB/s eta 0:00:03\n",
      "     -------------------------             132.5/192.2 MB 29.7 MB/s eta 0:00:03\n",
      "     -------------------------             133.4/192.2 MB 28.5 MB/s eta 0:00:03\n",
      "     -------------------------             134.6/192.2 MB 28.4 MB/s eta 0:00:03\n",
      "     --------------------------            136.3/192.2 MB 31.2 MB/s eta 0:00:02\n",
      "     --------------------------            137.6/192.2 MB 32.8 MB/s eta 0:00:02\n",
      "     --------------------------            139.3/192.2 MB 32.8 MB/s eta 0:00:02\n",
      "     ---------------------------           140.6/192.2 MB 32.8 MB/s eta 0:00:02\n",
      "     ---------------------------           142.3/192.2 MB 32.8 MB/s eta 0:00:02\n",
      "     ---------------------------           144.0/192.2 MB 34.4 MB/s eta 0:00:02\n",
      "     ---------------------------           145.3/192.2 MB 34.4 MB/s eta 0:00:02\n",
      "     ----------------------------          146.8/192.2 MB 36.4 MB/s eta 0:00:02\n",
      "     ----------------------------          148.1/192.2 MB 34.4 MB/s eta 0:00:02\n",
      "     ----------------------------          149.6/192.2 MB 36.4 MB/s eta 0:00:02\n",
      "     -----------------------------         151.3/192.2 MB 34.4 MB/s eta 0:00:02\n",
      "     -----------------------------         152.7/192.2 MB 34.4 MB/s eta 0:00:02\n",
      "     -----------------------------         154.4/192.2 MB 36.4 MB/s eta 0:00:02\n",
      "     ------------------------------        155.9/192.2 MB 34.4 MB/s eta 0:00:02\n",
      "     ------------------------------        157.6/192.2 MB 36.3 MB/s eta 0:00:01\n",
      "     ------------------------------        159.5/192.2 MB 38.5 MB/s eta 0:00:01\n",
      "     -------------------------------       161.4/192.2 MB 38.5 MB/s eta 0:00:01\n",
      "     -------------------------------       162.8/192.2 MB 36.3 MB/s eta 0:00:01\n",
      "     -------------------------------       164.1/192.2 MB 36.4 MB/s eta 0:00:01\n",
      "     -------------------------------       165.7/192.2 MB 36.4 MB/s eta 0:00:01\n",
      "     --------------------------------      167.0/192.2 MB 34.4 MB/s eta 0:00:01\n",
      "     --------------------------------      168.8/192.2 MB 36.4 MB/s eta 0:00:01\n",
      "     --------------------------------      170.1/192.2 MB 34.4 MB/s eta 0:00:01\n",
      "     ---------------------------------     172.0/192.2 MB 34.4 MB/s eta 0:00:01\n",
      "     ---------------------------------     173.6/192.2 MB 36.4 MB/s eta 0:00:01\n",
      "     ---------------------------------     174.5/192.2 MB 36.4 MB/s eta 0:00:01\n",
      "     ---------------------------------     176.4/192.2 MB 36.4 MB/s eta 0:00:01\n",
      "     ----------------------------------    177.4/192.2 MB 34.4 MB/s eta 0:00:01\n",
      "     ----------------------------------    179.1/192.2 MB 36.4 MB/s eta 0:00:01\n",
      "     ----------------------------------    181.0/192.2 MB 36.4 MB/s eta 0:00:01\n",
      "     -----------------------------------   182.8/192.2 MB 36.3 MB/s eta 0:00:01\n",
      "     -----------------------------------   184.7/192.2 MB 36.3 MB/s eta 0:00:01\n",
      "     -----------------------------------   186.2/192.2 MB 34.6 MB/s eta 0:00:01\n",
      "     ------------------------------------  187.8/192.2 MB 36.4 MB/s eta 0:00:01\n",
      "     ------------------------------------  189.2/192.2 MB 32.7 MB/s eta 0:00:01\n",
      "     ------------------------------------  190.8/192.2 MB 36.4 MB/s eta 0:00:01\n",
      "     ------------------------------------  191.1/192.2 MB 31.2 MB/s eta 0:00:01\n",
      "     ------------------------------------  192.2/192.2 MB 29.7 MB/s eta 0:00:01\n",
      "     ------------------------------------  192.2/192.2 MB 29.7 MB/s eta 0:00:01\n",
      "     ------------------------------------  192.2/192.2 MB 29.7 MB/s eta 0:00:01\n",
      "     ------------------------------------  192.2/192.2 MB 29.7 MB/s eta 0:00:01\n",
      "     ------------------------------------  192.2/192.2 MB 29.7 MB/s eta 0:00:01\n",
      "     ------------------------------------  192.2/192.2 MB 29.7 MB/s eta 0:00:01\n",
      "     ------------------------------------  192.2/192.2 MB 29.7 MB/s eta 0:00:01\n",
      "     ------------------------------------  192.2/192.2 MB 29.7 MB/s eta 0:00:01\n",
      "     ------------------------------------  192.2/192.2 MB 29.7 MB/s eta 0:00:01\n",
      "     ------------------------------------- 192.2/192.2 MB 11.3 MB/s eta 0:00:00\n",
      "Requirement already satisfied: pillow!=8.3.*,>=5.3.0 in c:\\anaconda\\lib\\site-packages (from torchvision->sentence-transformers) (9.4.0)\n",
      "Requirement already satisfied: sympy in c:\\anaconda\\lib\\site-packages (from torch>=1.6.0->sentence-transformers) (1.11.1)\n",
      "Requirement already satisfied: networkx in c:\\anaconda\\lib\\site-packages (from torch>=1.6.0->sentence-transformers) (2.8.4)\n",
      "Requirement already satisfied: jinja2 in c:\\anaconda\\lib\\site-packages (from torch>=1.6.0->sentence-transformers) (2.11.3)\n",
      "Requirement already satisfied: MarkupSafe>=0.23 in c:\\anaconda\\lib\\site-packages (from jinja2->torch>=1.6.0->sentence-transformers) (2.0.1)\n",
      "Requirement already satisfied: charset-normalizer<4,>=2 in c:\\anaconda\\lib\\site-packages (from requests->huggingface-hub>=0.4.0->sentence-transformers) (2.0.4)\n",
      "Requirement already satisfied: idna<4,>=2.5 in c:\\anaconda\\lib\\site-packages (from requests->huggingface-hub>=0.4.0->sentence-transformers) (3.4)\n",
      "Requirement already satisfied: urllib3<1.27,>=1.21.1 in c:\\anaconda\\lib\\site-packages (from requests->huggingface-hub>=0.4.0->sentence-transformers) (1.26.15)\n",
      "Requirement already satisfied: certifi>=2017.4.17 in c:\\anaconda\\lib\\site-packages (from requests->huggingface-hub>=0.4.0->sentence-transformers) (2023.5.7)\n",
      "Requirement already satisfied: mpmath>=0.19 in c:\\anaconda\\lib\\site-packages (from sympy->torch>=1.6.0->sentence-transformers) (1.2.1)\n",
      "Building wheels for collected packages: sentence-transformers\n",
      "  Building wheel for sentence-transformers (setup.py): started\n",
      "  Building wheel for sentence-transformers (setup.py): finished with status 'done'\n",
      "  Created wheel for sentence-transformers: filename=sentence_transformers-2.2.2-py3-none-any.whl size=125961 sha256=6eebeb2e6d05280758392ff408b7f1ad126fc4968c60265b7649838c3697805b\n",
      "  Stored in directory: c:\\users\\łukasz\\appdata\\local\\pip\\cache\\wheels\\71\\67\\06\\162a3760c40d74dd40bc855d527008d26341c2b0ecf3e8e11f\n",
      "Successfully built sentence-transformers\n",
      "Installing collected packages: tokenizers, sentencepiece, torch, torchvision, sentence-transformers\n",
      "  Attempting uninstall: tokenizers\n",
      "    Found existing installation: tokenizers 0.14.1\n",
      "    Uninstalling tokenizers-0.14.1:\n",
      "      Successfully uninstalled tokenizers-0.14.1\n",
      "  Attempting uninstall: torch\n",
      "    Found existing installation: torch 1.12.1\n",
      "    Uninstalling torch-1.12.1:\n",
      "      Successfully uninstalled torch-1.12.1\n",
      "Successfully installed sentence-transformers-2.2.2 sentencepiece-0.1.99 tokenizers-0.13.3 torch-2.1.0 torchvision-0.16.0\n"
     ]
    },
    {
     "name": "stderr",
     "output_type": "stream",
     "text": [
      "\n",
      "[notice] A new release of pip is available: 23.1.2 -> 23.3.1\n",
      "[notice] To update, run: python.exe -m pip install --upgrade pip\n"
     ]
    }
   ],
   "source": [
    "!pip install sentence-transformers"
   ]
  }
 ],
 "metadata": {
  "kernelspec": {
   "display_name": "base",
   "language": "python",
   "name": "python3"
  },
  "language_info": {
   "codemirror_mode": {
    "name": "ipython",
    "version": 3
   },
   "file_extension": ".py",
   "mimetype": "text/x-python",
   "name": "python",
   "nbconvert_exporter": "python",
   "pygments_lexer": "ipython3",
   "version": "3.9.13"
  }
 },
 "nbformat": 4,
 "nbformat_minor": 2
}
