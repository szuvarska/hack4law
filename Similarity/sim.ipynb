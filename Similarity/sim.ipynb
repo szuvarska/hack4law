{
 "cells": [
  {
   "cell_type": "code",
   "execution_count": 184,
   "metadata": {},
   "outputs": [],
   "source": [
    "import pandas as pd\n",
    "import numpy as np\n",
    "from sklearn.feature_extraction.text import TfidfVectorizer\n",
    "from sklearn.metrics.pairwise import cosine_similarity\n",
    "\n",
    "df = pd.read_csv('../Data/with_uzasadnienie.csv', sep = \";\")\n",
    "df_id = df['id']\n",
    "df_text = df['textContent']\n",
    "\n",
    "# Inicjalizacja obiektu TF-IDF Vectorizer\n",
    "tfidf_vectorizer = TfidfVectorizer()\n",
    "\n",
    "# Fit i transformacja tekstu do reprezentacji TF-IDF\n",
    "tfidf_matrix = tfidf_vectorizer.fit_transform(df_text.iloc[1:])\n",
    "\n",
    "# Konwersja rzadkiej macierzy TF-IDF do ramki danych\n",
    "tfidf_df = pd.DataFrame(tfidf_matrix.toarray(), columns=tfidf_vectorizer.get_feature_names_out())"
   ]
  },
  {
   "cell_type": "code",
   "execution_count": 205,
   "metadata": {},
   "outputs": [
    {
     "data": {
      "text/plain": [
       "26"
      ]
     },
     "execution_count": 205,
     "metadata": {},
     "output_type": "execute_result"
    }
   ],
   "source": [
    "len(df.iloc[1,:][df.iloc[1,:].index.tolist()])"
   ]
  },
  {
   "cell_type": "code",
   "execution_count": 215,
   "metadata": {},
   "outputs": [
    {
     "ename": "SyntaxError",
     "evalue": "invalid syntax (3151392247.py, line 3)",
     "output_type": "error",
     "traceback": [
      "\u001b[1;36m  Cell \u001b[1;32mIn[215], line 3\u001b[1;36m\u001b[0m\n\u001b[1;33m    pydantic = {version = \"*\", extras = [\"dataclasses\"], markers = \"python_version < '3.7'\"}\u001b[0m\n\u001b[1;37m                        ^\u001b[0m\n\u001b[1;31mSyntaxError\u001b[0m\u001b[1;31m:\u001b[0m invalid syntax\n"
     ]
    }
   ],
   "source": [
    "from find_similar import return_df_with_similarities\n",
    "\n",
    "query = 'powód company SA B wnosić stwierdzić nieważność uchwała zgromadzenie Wspólników spółka ograniczyć odpowiedzialność B podjąć 23122002 rok moc zmienić umowa spółka dodać § 11 nowy uregulowanie usta 4 5 przewidujący umorzyć udział wspólnik powziąć uchwała zgromadzenie Wspólnik ogłoszeć upadłość wynagrodzenie stanowiącym równowartość wartość księgowy udział podstawa powództwo wskazywać przepis artykuł 252§1 zw artykuł 250 pkt4 ksh k3 nadto podnosić legitymacja wyprowadzić możnaba artykuł 189 k 41 Pozwan sp oo B wnosić oddalić powództwo sąd okręgowy – sąd gospodarczy Białystok wyrokie dzień 05122003 rok ustalić uchwała zgromadzenie wspólnik Spółka ograniczyć odpowiedzialność B podjąć dzień 23122002 rok moc § 11 umowa spółka dodać ustęp 4 5 przewidywać umorzyć udział wspólnik powziąć uchwała zgromadzenie Wspólnik ogłosić upadłość wynagrodzenie stanowiącym równowartość wartość księgowy udział nieważny wpis ostateczny ustalić kwota 250 złoty obciążyć pozwany obowiązek uiszczeć wpis rzecz skarb państwo sąd ustalić umowa dzień 3 lipiec 2001 rok zawiązać zostać spółka ograniczyć odpowiedzialność B duży udziałowiec zostać COMPANY SA B obejmować udział 2960 wartość 1 480 00000 złoty § 11 umowa ustalić udział spółka móc umarzać podstawa uchwała zgromadzenie Wspólnik podjętej większość 23 głos usta 1 umorzeć udział móc nastąpić czysty zysk obniżyć kapitał zakładowy umorzenie równomierć wszystek udział decydować zgromadzenie wspólnik umorzyć udział nierównomierny niezbędny zgoda wszystek wspólnik usta 2 przypadek umorzyć udział wspólniek przysługiwać zwrot równowartość umorzonych udział wartość bilansowy dzień określić uchwała umorzenie termin miesiąc dzień podjąć uchwała chyba uchwała określić termin dzień 23122002 rok odbyć Nadzwyczajne walny zgromadzenie Wspólników spółka Zgromadzenie reprezentować kapitał zakładowy porządek obrady przewidywać minuta dyskusja przedmiot podwyższyć kapitał zakładowy spółka zmiana umowa spółka podjąć przedmiot uchwać tok obrady głosowanie jawć jednomyślnie brak sprzeciw podjąć uchwała moc § 11 umowa spółka dodać zostać usta 4 5 pozwalać umorzyć udział wspólnik powziąć uchwała zgromadzenie Wspólnik ogłoszeć upadłość wynagrodzenie stanowiącym równowartość wartość księgowy udział dzień 16012002 rok company SA B złożyć podanie otworzyć postępowanie układowy dzień 21022003 rok ogłoszenie upadłość dzień 28042003 rok sąd ogłosić upadłość spółka ustaloć stan faktyczny sąd okręgowy wskazać rozwiązanie przewidziać przepis artykuł 199§4 ksh mieć cel przeciwdziałać niepożądany sytuacja naruszać uzasadniony interes niektóry wspólnik zwłaszcza mieć spółka wystarczająco mocny pozycja prawny faktyczny Rozwiązanie zapewnić wspólnik możliwość wycofać spółka znaczniejszy strata wskazać umorzyć udział ustawodawca wyszczególnić rodzaj zdarzenie objąć zostać dyspozycja artykuł 199§4 ksh określić zdarzenie móc objąć zwany automatyczny umorzenie ocena sąd okręgowy oznaczać zainteresować móc dokonać zmiana umowa spółka przyjąć zdarzenie prawny fakt ogłosić upadłość skutkuć umorzeniem udział skutka zdarzenie odmienny regulować obowiązywać przepis prawny istota uchwała wspólnik móc zmierzać pokrzywdzeć wierzyciel wspólnik pozwany spółka wobec mieć zostać ogłoszić upadłość zdanie sąd syndyk należeć krąg podmiot mowa artykuł 250 ksha ustawodawca dać legitymacja wytoczeć powództwo stwierdzić nieważność uchwała wspólnik sprzeczć ustawa podstawa artykuł 252 ksh Wskazywać roszczenie sprowadzać żądać stwierdzeć nieważność uchwała sprzeczny przepis prawo sąd związać sformułować konkluzja pozwu kwalifikacja prawny dochodzoć żądać zmieniać wyrok brzmieć konkluzja pozwu przyjmować kwalifikacja prawny dochodzony żądać ramy zgłoszony podstawa faktyczny powództwo naruszać przepis artykuł 321§1 sąd okręgowy uznać potrzebny rozważenie roszczenie powód móc znaleźć oparcie przepis artykuł 189 ramy podstawa wskazać chwila ogłosić upadłość upaść tracić rzecz syndyk prawo zarząd rozporządzać swój majątek Syndyk działać rzecz masa upadłość interes rzecz wszystek wierzyciel przepis artykuł 67 prawo upadłościow odbierać poszczególny wierzyciel prawo wytoczeć powództwo przyznawać syndykowy nadto przepis artykuł 56 prawo upadłościowego cel zaskarżyć czynność prawny upadłego zdziałany szkoda wierzyciel dopuszczać odpowiedni stosować przepis kodeks postępowanie cywilny mieć umożliwić syndyk odpowiedni skorzystać klasyczny instrument prawo cywilny cel zapewnić bezpośredni ochrona masa upadłość sąd wskazać doktryna orzecznictwo dopuszczać powództwo ustalić nieważność uchwała wypadek bezwzględny nieważność podstawa artykuł 189 kpca zasada ogólny zdanie sąd powód – syndyk zaskarżać uchwała interes wszystek wierzyciel mieć interes prawny żądanie ustalenie sporny uchwała nieważna naruszać uregulowanie zawrzeć artykuł 20 90 prawo upadłościow mieć cel obejść syndyk wyłącznie uprawniyć dysponować udziałami posiadać upaść pozwany spółka Umorzenie automatyczny udział upadłego spółka ogłoszeć upadłość powodować wygaśniąć uczestnictwo spółka równowartość odpowiadać wartość księgowy odbiegać istotny wartość wolnorynkowy ocena sąd argument przemawiać przyjąć sporny uchwała sprzeczny powołany wysoko przepis prawo mieć cel obejśt ustawa Godzić interes przyszły wierzyciel upadłego wspólnik wyłączać uprawnienie syndyka dysponować przedmiotowy udziałami ogłoszeć upadłość wyłącnie uprawniyć ocena sąd syndyk móc dochodzić ochrona podstawa artykuł 189 niezależnie przysługujący roszczenie przykład droga skarga pauliański tryb artykuł 67 prawo upadłościowego wzmocnić argumentacja sąd okręgowy powołać przepis artykuł 83 84 ustawa dzień 28022003 rok prawo upadłościowy naprawcze DzU numer 60 poz 535 wskazywać nieważny postanowienie umowa zastrzegać wypadek ogłosić upadłość zmiana rozwiązać stosunek prawny strona upadły ogłoszeć upadłość zmiana wygaśniąć stosunek prawny strona upaść możliwy tylkko przepis ustawa czynność prawny dokonać naruszeć ustawa bezskuteczny wobec masa upadłość umowa strona przewidywać skutek Powołując zatem podstawa swój rozstrzygnięci artykuł 189 zw artykuł 58 kc sąd powództwo uwzględnić Apelacja wyrok wnieść pozwany spółka Zarzucając naruszyć przepis artykuł 321§1 przepis prawo materialny tj artykuł 252§1 zdanie drugi ksh poprzez zastosowanie rozpoznawać sprawa artykuł 189 artykuł 536 prawo upadłościowy naprawczy zw artykuł 620§1 ksh wnosić zmiana zaskarżyć wyrok oddaleć powództwo zasądzić koszt proces oba instancja'\n",
    "\n",
    "return_df_with_similarities(query = query)"
   ]
  },
  {
   "cell_type": "code",
   "execution_count": 212,
   "metadata": {},
   "outputs": [
    {
     "name": "stdout",
     "output_type": "stream",
     "text": [
      "Collecting typing-extensions==3.10.0.0\n",
      "  Downloading typing_extensions-3.10.0.0-py3-none-any.whl (26 kB)\n",
      "Installing collected packages: typing-extensions\n",
      "  Attempting uninstall: typing-extensions\n",
      "    Found existing installation: typing_extensions 4.8.0\n",
      "    Uninstalling typing_extensions-4.8.0:\n",
      "      Successfully uninstalled typing_extensions-4.8.0\n",
      "Successfully installed typing-extensions-3.10.0.0\n"
     ]
    },
    {
     "name": "stderr",
     "output_type": "stream",
     "text": [
      "ERROR: pip's dependency resolver does not currently take into account all the packages that are installed. This behaviour is the source of the following dependency conflicts.\n",
      "astroid 2.14.2 requires typing-extensions>=4.0.0; python_version < \"3.11\", but you have typing-extensions 3.10.0.0 which is incompatible.\n",
      "chromadb 0.4.14 requires typing-extensions>=4.5.0, but you have typing-extensions 3.10.0.0 which is incompatible.\n",
      "cloudpathlib 0.16.0 requires typing_extensions>4; python_version < \"3.11\", but you have typing-extensions 3.10.0.0 which is incompatible.\n",
      "fastapi 0.104.0 requires typing-extensions>=4.8.0, but you have typing-extensions 3.10.0.0 which is incompatible.\n",
      "pydantic 2.4.2 requires typing-extensions>=4.6.1, but you have typing-extensions 3.10.0.0 which is incompatible.\n",
      "pydantic-core 2.10.1 requires typing-extensions!=4.7.0,>=4.6.0, but you have typing-extensions 3.10.0.0 which is incompatible.\n",
      "python-lsp-black 1.2.1 requires black>=22.3.0, but you have black 0.0 which is incompatible.\n",
      "uvicorn 0.23.2 requires typing-extensions>=4.0; python_version < \"3.11\", but you have typing-extensions 3.10.0.0 which is incompatible.\n",
      "\n",
      "[notice] A new release of pip is available: 23.1.2 -> 23.3.1\n",
      "[notice] To update, run: python.exe -m pip install --upgrade pip\n"
     ]
    }
   ],
   "source": [
    "!pip install typing-extensions==3.10.0.0"
   ]
  }
 ],
 "metadata": {
  "kernelspec": {
   "display_name": "base",
   "language": "python",
   "name": "python3"
  },
  "language_info": {
   "codemirror_mode": {
    "name": "ipython",
    "version": 3
   },
   "file_extension": ".py",
   "mimetype": "text/x-python",
   "name": "python",
   "nbconvert_exporter": "python",
   "pygments_lexer": "ipython3",
   "version": "3.9.13"
  }
 },
 "nbformat": 4,
 "nbformat_minor": 2
}
